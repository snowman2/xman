{
 "cells": [
  {
   "cell_type": "code",
   "execution_count": 1,
   "metadata": {
    "collapsed": true,
    "extensions": {
     "jupyter_dashboards": {
      "version": 1,
      "views": {
       "grid_default": {
        "hidden": true
       },
       "report_default": {}
      }
     }
    }
   },
   "outputs": [],
   "source": [
    "import ipywidgets as widgets\n",
    "from shapely.geometry import Polygon\n",
    "from xman.xflow import find_depth_velocity_area_plot"
   ]
  },
  {
   "cell_type": "code",
   "execution_count": 2,
   "metadata": {
    "collapsed": true,
    "extensions": {
     "jupyter_dashboards": {
      "version": 1,
      "views": {
       "grid_default": {
        "hidden": true
       },
       "report_default": {}
      }
     }
    }
   },
   "outputs": [],
   "source": [
    "xy_list = [(0, 20), (1, 13), (2, 12), (3, 11), (4, 10), (5, 4), (6, 7), (7, 15), (8, 16), (9, 20)]\n",
    "cross_section_polygon = Polygon(xy_list)"
   ]
  },
  {
   "cell_type": "code",
   "execution_count": 3,
   "metadata": {
    "extensions": {
     "jupyter_dashboards": {
      "version": 1,
      "views": {
       "grid_default": {
        "col": 0,
        "height": 4,
        "hidden": false,
        "row": 0,
        "width": 12
       },
       "report_default": {}
      }
     }
    }
   },
   "outputs": [
    {
     "data": {
      "application/vnd.jupyter.widget-view+json": {
       "model_id": "ec0ba31594224ab69ac53c11ac433099"
      }
     },
     "metadata": {},
     "output_type": "display_data"
    }
   ],
   "source": [
    "widgets.interact_manual(\n",
    "    find_depth_velocity_area_plot,\n",
    "    cross_section_polygon=widgets.fixed(cross_section_polygon), \n",
    "    target_flow=widgets.FloatText(\n",
    "        value=50,\n",
    "        description='Target Flow:',\n",
    "        disabled=False\n",
    "    ), \n",
    "    max_delta=widgets.BoundedFloatText(\n",
    "        value=0.01,\n",
    "        min=0,\n",
    "        max=1,\n",
    "        description='Max Delta:',\n",
    "        disabled=False\n",
    "    ),\n",
    "    channel_slope=widgets.BoundedFloatText(\n",
    "        value=0.001,\n",
    "        min=0,\n",
    "        max=1,\n",
    "        description='Channel Slope:',\n",
    "        disabled=False\n",
    "    ),\n",
    "    mannings_roughness=widgets.BoundedFloatText(\n",
    "        value=0.013,\n",
    "        min=0,\n",
    "        max=5,\n",
    "        description=\"Manning's Roughness:\",\n",
    "        disabled=False\n",
    "    ),\n",
    ");"
   ]
  },
  {
   "cell_type": "code",
   "execution_count": null,
   "metadata": {
    "collapsed": true,
    "extensions": {
     "jupyter_dashboards": {
      "version": 1,
      "views": {
       "grid_default": {
        "hidden": true
       },
       "report_default": {}
      }
     }
    }
   },
   "outputs": [],
   "source": []
  }
 ],
 "metadata": {
  "extensions": {
   "jupyter_dashboards": {
    "activeView": "grid_default",
    "version": 1,
    "views": {
     "grid_default": {
      "cellMargin": 10,
      "defaultCellHeight": 20,
      "maxColumns": 12,
      "name": "grid",
      "type": "grid"
     },
     "report_default": {
      "name": "report",
      "type": "report"
     }
    }
   }
  },
  "kernelspec": {
   "display_name": "Python 3",
   "language": "python",
   "name": "python3"
  },
  "language_info": {
   "codemirror_mode": {
    "name": "ipython",
    "version": 3
   },
   "file_extension": ".py",
   "mimetype": "text/x-python",
   "name": "python",
   "nbconvert_exporter": "python",
   "pygments_lexer": "ipython3",
   "version": "3.6.1"
  }
 },
 "nbformat": 4,
 "nbformat_minor": 2
}
