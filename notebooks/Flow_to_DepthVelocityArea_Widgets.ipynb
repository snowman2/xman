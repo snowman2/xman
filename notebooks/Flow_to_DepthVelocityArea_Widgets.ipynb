{
 "cells": [
  {
   "cell_type": "code",
   "execution_count": 1,
   "metadata": {
    "collapsed": true,
    "extensions": {
     "jupyter_dashboards": {
      "version": 1,
      "views": {
       "grid_default": {
        "hidden": true
       },
       "report_default": {}
      }
     }
    }
   },
   "outputs": [],
   "source": [
    "import ipywidgets as widgets\n",
    "from shapely.geometry import Polygon\n",
    "from xman.xflow import find_depth_velocity_area_plot"
   ]
  },
  {
   "cell_type": "code",
   "execution_count": 2,
   "metadata": {
    "extensions": {
     "jupyter_dashboards": {
      "version": 1,
      "views": {
       "grid_default": {
        "hidden": true
       },
       "report_default": {}
      }
     }
    }
   },
   "outputs": [],
   "source": [
    "#xy_list = [(0, 20), (1, 13), (2, 12), (3, 11), (4, 10), (5, 4), (6, 7), (7, 15), (8, 16), (9, 20)]\n",
    "xy_list = [\n",
    " (47.056070295819055, 841),\n",
    " (56.467284354982866, 835),\n",
    " (65.878498414146677, 834),\n",
    " (75.289712473310487, 834),\n",
    " (84.700926532474298, 837),\n",
    " (94.112140591638109, 837),\n",
    " (103.52335465080192, 834),\n",
    " (112.93456870996573, 834),\n",
    " (122.34578276912954, 834),\n",
    " (131.75699682829335, 838),\n",
    " (141.16821088745718, 838),\n",
    " (150.57942494662097, 838),\n",
    " (159.99063900578477, 841),\n",
    " (169.4018530649486, 841),\n",
    " (178.81306712411242, 848)]\n",
    "cross_section_polygon = Polygon(xy_list)"
   ]
  },
  {
   "cell_type": "code",
   "execution_count": 3,
   "metadata": {
    "extensions": {
     "jupyter_dashboards": {
      "version": 1,
      "views": {
       "grid_default": {
        "col": 0,
        "height": 4,
        "hidden": false,
        "row": 0,
        "width": 12
       },
       "report_default": {}
      }
     }
    }
   },
   "outputs": [
    {
     "data": {
      "application/vnd.jupyter.widget-view+json": {
       "model_id": "a68f6c7fdaa548459223662e68061890",
       "version_major": 2,
       "version_minor": 0
      },
      "text/plain": [
       "A Jupyter Widget"
      ]
     },
     "metadata": {},
     "output_type": "display_data"
    }
   ],
   "source": [
    "widgets.interact_manual(\n",
    "    find_depth_velocity_area_plot,\n",
    "    cross_section_polygon=widgets.fixed(cross_section_polygon), \n",
    "    target_flow=widgets.FloatText(\n",
    "        value=50,\n",
    "        description='Target Flow:',\n",
    "        disabled=False\n",
    "    ), \n",
    "    max_delta=widgets.BoundedFloatText(\n",
    "        value=0.01,\n",
    "        min=0,\n",
    "        max=1,\n",
    "        description='Max Delta:',\n",
    "        disabled=False\n",
    "    ),\n",
    "    channel_slope=widgets.BoundedFloatText(\n",
    "        value=0.001,\n",
    "        min=0,\n",
    "        max=1,\n",
    "        description='Channel Slope:',\n",
    "        disabled=False\n",
    "    ),\n",
    "    mannings_roughness=widgets.BoundedFloatText(\n",
    "        value=0.013,\n",
    "        min=0,\n",
    "        max=5,\n",
    "        description=\"Manning's Roughness:\",\n",
    "        disabled=False\n",
    "    ),\n",
    "    max_iterations=widgets.IntText(\n",
    "        value=1000,\n",
    "        description=\"Maximum number of iterations:\",\n",
    "        disabled=False\n",
    "    ),\n",
    ");"
   ]
  },
  {
   "cell_type": "code",
   "execution_count": 4,
   "metadata": {
    "extensions": {
     "jupyter_dashboards": {
      "version": 1,
      "views": {
       "grid_default": {
        "hidden": true
       },
       "report_default": {}
      }
     }
    }
   },
   "outputs": [
    {
     "data": {
      "image/svg+xml": [
       "<svg xmlns=\"http://www.w3.org/2000/svg\" xmlns:xlink=\"http://www.w3.org/1999/xlink\" width=\"142.29755657455684\" height=\"100.0\" viewBox=\"41.78579042268732 828.7297201268683 142.29755657455684 24.540559746263398\" preserveAspectRatio=\"xMinYMin meet\"><g transform=\"matrix(1,0,0,-1,0,1682.0)\"><path fill-rule=\"evenodd\" fill=\"#66cc99\" stroke=\"#555555\" stroke-width=\"2.0\" opacity=\"0.6\" d=\"M 47.056070295819055,841.0 L 56.467284354982866,835.0 L 65.87849841414668,834.0 L 75.28971247331049,834.0 L 84.7009265324743,837.0 L 94.11214059163811,837.0 L 103.52335465080192,834.0 L 112.93456870996573,834.0 L 122.34578276912954,834.0 L 131.75699682829335,838.0 L 141.16821088745718,838.0 L 150.57942494662097,838.0 L 159.99063900578477,841.0 L 169.4018530649486,841.0 L 178.81306712411242,848.0 L 47.056070295819055,841.0 z\" /></g></svg>"
      ],
      "text/plain": [
       "<shapely.geometry.polygon.Polygon at 0x118401b00>"
      ]
     },
     "execution_count": 4,
     "metadata": {},
     "output_type": "execute_result"
    }
   ],
   "source": [
    "cross_section_polygon"
   ]
  },
  {
   "cell_type": "code",
   "execution_count": null,
   "metadata": {
    "collapsed": true
   },
   "outputs": [],
   "source": []
  }
 ],
 "metadata": {
  "extensions": {
   "jupyter_dashboards": {
    "activeView": "grid_default",
    "version": 1,
    "views": {
     "grid_default": {
      "cellMargin": 10,
      "defaultCellHeight": 20,
      "maxColumns": 12,
      "name": "grid",
      "type": "grid"
     },
     "report_default": {
      "name": "report",
      "type": "report"
     }
    }
   }
  },
  "kernelspec": {
   "display_name": "Python 3",
   "language": "python",
   "name": "python3"
  },
  "language_info": {
   "codemirror_mode": {
    "name": "ipython",
    "version": 3
   },
   "file_extension": ".py",
   "mimetype": "text/x-python",
   "name": "python",
   "nbconvert_exporter": "python",
   "pygments_lexer": "ipython3",
   "version": "3.5.4"
  }
 },
 "nbformat": 4,
 "nbformat_minor": 2
}
